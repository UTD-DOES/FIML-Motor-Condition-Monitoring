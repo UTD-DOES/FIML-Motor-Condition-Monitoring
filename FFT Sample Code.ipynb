{
 "cells": [
  {
   "cell_type": "code",
   "execution_count": null,
   "id": "d849faa2-4d97-4d4f-81fe-930dd2ccaf8f",
   "metadata": {},
   "outputs": [],
   "source": [
    "## This code is an example how we do FFT with specific duration\n",
    "## To streamline the process with multiple files, multiprocessing is leveraged to allocate CPU core to each file\n",
    "## Coder: Jingyi Yan     Date: 10/10/2025     @ DOES Lab, UTD"
   ]
  },
  {
   "cell_type": "code",
   "execution_count": 1,
   "id": "dee428f6-8560-4d49-b902-4b148e01581b",
   "metadata": {},
   "outputs": [],
   "source": [
    "# All you need to do is to change the file names in the file2 list \n",
    "file2 = ['/home/jingyi/Jy/Condition Monitoring/FM_UTD/FM_UTDallas/New Data/Healthy/Baseline/Healthy_Test2.csv', '/home/jingyi/Jy/Condition Monitoring/FM_UTD/FM_UTDallas/New Data/Healthy/Baseline/Healthy_Test4.csv']"
   ]
  },
  {
   "cell_type": "code",
   "execution_count": 2,
   "id": "ef6ac594-7d61-4add-93f9-afca98071533",
   "metadata": {},
   "outputs": [
    {
     "name": "stdout",
     "output_type": "stream",
     "text": [
      "Processed: /home/jingyi/Jy/Condition Monitoring/FM_UTD/FM_UTDallas/New Data/Healthy/Baseline/Healthy_Test2_FFT05I_ABC_112-118.csv\n",
      "Processed: /home/jingyi/Jy/Condition Monitoring/FM_UTD/FM_UTDallas/New Data/Healthy/Baseline/Healthy_Test4_FFT05I_ABC_112-118.csv\n"
     ]
    }
   ],
   "source": [
    "import os\n",
    "import pandas as pd\n",
    "import numpy as np\n",
    "import scipy.fftpack\n",
    "from multiprocessing import Pool\n",
    "\n",
    "T = 1 / 10000  # Sample Spacing\n",
    "duration_list = [0.5, 1, 2] # in the unit of seconds, you may change the index of duration d to select the sampling time\n",
    "# Please change the columns list if you modify the duration list\n",
    "columns_list = [ \n",
    "    list(np.arange(112, 119, 2)),\n",
    "    list(np.arange(112,119, 1)),\n",
    "    list(np.arange(112,119, 0.5))\n",
    "]\n",
    "d = 0  # index for duration and deside the colomn heading accordingly\n",
    "\n",
    "# Function to process a single file\n",
    "def process_file(file_path):\n",
    "    try:\n",
    "        df = pd.read_csv(file_path)\n",
    "        array = df[['CT 1', 'CT 2', 'CT 3']]\n",
    "        \n",
    "        \n",
    "        duration = duration_list[d]\n",
    "        columns = columns_list[d]\n",
    "        N = int(duration * 10000)\n",
    "        \n",
    "        freqA = pd.DataFrame(columns=[f\"{f} IA\" for f in columns])\n",
    "        freqB = pd.DataFrame(columns=[f\"{f} IB\" for f in columns])\n",
    "        freqC = pd.DataFrame(columns=[f\"{f} IC\" for f in columns])\n",
    "\n",
    "        i = 0\n",
    "        for start in range(0, len(array) - N):\n",
    "            f = scipy.fftpack.fft(array.iloc[start:start+N].values, axis=0)\n",
    "            f2 = 2.0 / N * np.abs(f[:N // 2, :])\n",
    "            Freqf = np.linspace(0.0, 1.0 / (2.0 * T), N // 2)\n",
    "            freqA.loc[i] = f2[Freqf >= 112, 0][Freqf[Freqf >= 112] < 118.5]\n",
    "            freqB.loc[i] = f2[Freqf >= 112, 1][Freqf[Freqf >= 112] < 118.5]\n",
    "            freqC.loc[i] = f2[Freqf >= 112, 2][Freqf[Freqf >= 112] < 118.5]\n",
    "            i += 1\n",
    "\n",
    "        new_df = pd.concat([\n",
    "            df.loc[N:, ['VA', 'VB', 'VC', 'CT 1', 'CT 2', 'CT 3']].reset_index(drop=True),\n",
    "            freqA, freqB, freqC\n",
    "        ], axis=1)\n",
    "        \n",
    "        output_name = file_path[:-4] + f'_FFT{[\"05\",\"1\",\"2\"][d]}I_ABC_112-118.csv'\n",
    "        new_df.to_csv(output_name, index=False)\n",
    "        print(f\"Processed: {output_name}\")\n",
    "        \n",
    "    except Exception as e:\n",
    "        print(f\"Error processing {file_path}: {e}\")\n",
    "\n",
    "# Main execution\n",
    "if __name__ == \"__main__\":\n",
    "    files = file2\n",
    "    with Pool(processes=os.cpu_count()) as pool:\n",
    "        pool.map(process_file, files)"
   ]
  },
  {
   "cell_type": "code",
   "execution_count": null,
   "id": "dc285188-29df-47a3-b83c-28484beea0c5",
   "metadata": {},
   "outputs": [],
   "source": []
  }
 ],
 "metadata": {
  "kernelspec": {
   "display_name": "Python (myenv)",
   "language": "python",
   "name": "myenv"
  },
  "language_info": {
   "codemirror_mode": {
    "name": "ipython",
    "version": 3
   },
   "file_extension": ".py",
   "mimetype": "text/x-python",
   "name": "python",
   "nbconvert_exporter": "python",
   "pygments_lexer": "ipython3",
   "version": "3.10.18"
  }
 },
 "nbformat": 4,
 "nbformat_minor": 5
}
